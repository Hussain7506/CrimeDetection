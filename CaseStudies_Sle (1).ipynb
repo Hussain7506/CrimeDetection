{
 "cells": [
  {
   "cell_type": "code",
   "execution_count": 2,
   "id": "8c2f8241-dcfe-464c-96a3-4ae905cdfd00",
   "metadata": {},
   "outputs": [
    {
     "name": "stderr",
     "output_type": "stream",
     "text": [
      "C:\\Users\\ujjai\\AppData\\Local\\Temp\\ipykernel_23656\\781656855.py:3: DtypeWarning: Columns (13,19) have mixed types. Specify dtype option on import or set low_memory=False.\n",
      "  crime_data = pd.read_csv(r\"D:\\Hussain\\Sem-5\\CRIMEDATA2010to2023.csv\")\n"
     ]
    }
   ],
   "source": [
    "import pandas as pd\n",
    "# Load dataset\n",
    "crime_data = pd.read_csv(r\"D:\\Hussain\\Sem-5\\CRIMEDATA2010to2023.csv\")"
   ]
  },
  {
   "cell_type": "code",
   "execution_count": 4,
   "id": "fa6d110f-6642-4685-96d6-50b59f094301",
   "metadata": {},
   "outputs": [
    {
     "name": "stdout",
     "output_type": "stream",
     "text": [
      "21\n"
     ]
    }
   ],
   "source": [
    "print(crime_data[\"AREA\"].max())"
   ]
  },
  {
   "cell_type": "code",
   "execution_count": 3,
   "id": "b74f780c-5e68-4b30-9051-5b5acfab172d",
   "metadata": {},
   "outputs": [
    {
     "name": "stdout",
     "output_type": "stream",
     "text": [
      "<class 'pandas.core.frame.DataFrame'>\n",
      "RangeIndex: 2915401 entries, 0 to 2915400\n",
      "Data columns (total 28 columns):\n",
      " #   Column        Dtype  \n",
      "---  ------        -----  \n",
      " 0   DR_NO         int64  \n",
      " 1   DateRptd      object \n",
      " 2   TIMEOCC       int64  \n",
      " 3   AREA          int64  \n",
      " 4   AREANAME      object \n",
      " 5   RptDistNo     int64  \n",
      " 6   Part12        int64  \n",
      " 7   CrmCd         int64  \n",
      " 8   CrmCdDesc     object \n",
      " 9   Mocodes       object \n",
      " 10  VictAge       int64  \n",
      " 11  VictSex       object \n",
      " 12  VictDescent   object \n",
      " 13  PremisCd      object \n",
      " 14  PremisDesc    object \n",
      " 15  WeaponUsedCd  object \n",
      " 16  WeaponDesc    object \n",
      " 17  Status        object \n",
      " 18  StatusDesc    object \n",
      " 19  CrmCd1        object \n",
      " 20  CrmCd2        object \n",
      " 21  CrmCd3        object \n",
      " 22  CrmCd4        object \n",
      " 23  LOCATION      object \n",
      " 24  CrossStreet   object \n",
      " 25  LAT           float64\n",
      " 26  LON           float64\n",
      " 27  DATEOCC       object \n",
      "dtypes: float64(2), int64(7), object(19)\n",
      "memory usage: 622.8+ MB\n"
     ]
    }
   ],
   "source": [
    "crime_data.info()"
   ]
  },
  {
   "cell_type": "code",
   "execution_count": 4,
   "id": "de180bf7-bfd3-426f-aa4f-67cbf7c5fbf1",
   "metadata": {},
   "outputs": [
    {
     "name": "stdout",
     "output_type": "stream",
     "text": [
      "DR_NO           0\n",
      "DateRptd        0\n",
      "TIMEOCC         0\n",
      "AREA            0\n",
      "AREANAME        0\n",
      "RptDistNo       0\n",
      "Part12          0\n",
      "CrmCd           0\n",
      "CrmCdDesc       0\n",
      "Mocodes         0\n",
      "VictAge         0\n",
      "VictSex         0\n",
      "VictDescent     0\n",
      "PremisCd        0\n",
      "PremisDesc      0\n",
      "WeaponUsedCd    0\n",
      "WeaponDesc      0\n",
      "Status          0\n",
      "StatusDesc      0\n",
      "CrmCd1          0\n",
      "CrmCd2          0\n",
      "CrmCd3          0\n",
      "CrmCd4          0\n",
      "LOCATION        0\n",
      "CrossStreet     0\n",
      "LAT             0\n",
      "LON             0\n",
      "DATEOCC         0\n",
      "dtype: int64\n"
     ]
    }
   ],
   "source": [
    "print(crime_data.isnull().sum())"
   ]
  },
  {
   "cell_type": "code",
   "execution_count": 5,
   "id": "61793d61-0389-46cd-99b2-60054b5bcc6f",
   "metadata": {},
   "outputs": [
    {
     "name": "stdout",
     "output_type": "stream",
     "text": [
      "DR_NO                 0\n",
      "DateRptd              0\n",
      "TIMEOCC               0\n",
      "AREA                  0\n",
      "AREANAME              0\n",
      "RptDistNo             0\n",
      "Part12                0\n",
      "CrmCd                 0\n",
      "CrmCdDesc             0\n",
      "Mocodes          339721\n",
      "VictAge               0\n",
      "VictSex          303205\n",
      "VictDescent      303258\n",
      "PremisCd             58\n",
      "PremisDesc          652\n",
      "WeaponUsedCd    1925157\n",
      "WeaponDesc      1925158\n",
      "Status                3\n",
      "StatusDesc            0\n",
      "CrmCd1               20\n",
      "CrmCd2          2715862\n",
      "CrmCd3          2909824\n",
      "CrmCd4          2915238\n",
      "LOCATION              0\n",
      "CrossStreet     2431530\n",
      "LAT                   0\n",
      "LON                   0\n",
      "DATEOCC               0\n",
      "dtype: int64\n"
     ]
    }
   ],
   "source": [
    "# Check for empty strings\n",
    "empty_string_counts = (crime_data == ' ').sum()\n",
    "print(empty_string_counts)"
   ]
  },
  {
   "cell_type": "code",
   "execution_count": 6,
   "id": "9561582d-afb8-40d7-8bc3-f2852e6fe406",
   "metadata": {},
   "outputs": [],
   "source": [
    "crime_data.drop([\"Mocodes\",\"Status\",\"VictSex\",\"VictDescent\",\"PremisCd\",\"PremisDesc\",\"WeaponUsedCd\",\"WeaponDesc\",\"CrmCd1\",\"CrmCd2\",\"CrmCd3\",\"CrmCd4\",\"CrossStreet\"],axis=1,inplace=True)"
   ]
  },
  {
   "cell_type": "code",
   "execution_count": 7,
   "id": "c7cadd7d-50b5-4e55-b35b-a744b2790d9a",
   "metadata": {},
   "outputs": [
    {
     "data": {
      "text/html": [
       "<div>\n",
       "<style scoped>\n",
       "    .dataframe tbody tr th:only-of-type {\n",
       "        vertical-align: middle;\n",
       "    }\n",
       "\n",
       "    .dataframe tbody tr th {\n",
       "        vertical-align: top;\n",
       "    }\n",
       "\n",
       "    .dataframe thead th {\n",
       "        text-align: right;\n",
       "    }\n",
       "</style>\n",
       "<table border=\"1\" class=\"dataframe\">\n",
       "  <thead>\n",
       "    <tr style=\"text-align: right;\">\n",
       "      <th></th>\n",
       "      <th>DR_NO</th>\n",
       "      <th>DateRptd</th>\n",
       "      <th>TIMEOCC</th>\n",
       "      <th>AREA</th>\n",
       "      <th>AREANAME</th>\n",
       "      <th>RptDistNo</th>\n",
       "      <th>Part12</th>\n",
       "      <th>CrmCd</th>\n",
       "      <th>CrmCdDesc</th>\n",
       "      <th>VictAge</th>\n",
       "      <th>StatusDesc</th>\n",
       "      <th>LOCATION</th>\n",
       "      <th>LAT</th>\n",
       "      <th>LON</th>\n",
       "      <th>DATEOCC</th>\n",
       "    </tr>\n",
       "  </thead>\n",
       "  <tbody>\n",
       "    <tr>\n",
       "      <th>0</th>\n",
       "      <td>1307355</td>\n",
       "      <td>02/20/2010 12:00:00 AM</td>\n",
       "      <td>1350</td>\n",
       "      <td>13</td>\n",
       "      <td>Newton</td>\n",
       "      <td>1385</td>\n",
       "      <td>2</td>\n",
       "      <td>900</td>\n",
       "      <td>VIOLATION OF COURT ORDER</td>\n",
       "      <td>48</td>\n",
       "      <td>Adult Arrest</td>\n",
       "      <td>300 E  GAGE                         AV</td>\n",
       "      <td>33.9825</td>\n",
       "      <td>-118.2695</td>\n",
       "      <td>2/20/2010</td>\n",
       "    </tr>\n",
       "    <tr>\n",
       "      <th>1</th>\n",
       "      <td>11401303</td>\n",
       "      <td>09/13/2010 12:00:00 AM</td>\n",
       "      <td>45</td>\n",
       "      <td>14</td>\n",
       "      <td>Pacific</td>\n",
       "      <td>1485</td>\n",
       "      <td>2</td>\n",
       "      <td>740</td>\n",
       "      <td>VANDALISM - FELONY ($400 &amp; OVER, ALL CHURCH VA...</td>\n",
       "      <td>0</td>\n",
       "      <td>Invest Cont</td>\n",
       "      <td>SEPULVEDA                    BL</td>\n",
       "      <td>33.9599</td>\n",
       "      <td>-118.3962</td>\n",
       "      <td>9/12/2010</td>\n",
       "    </tr>\n",
       "    <tr>\n",
       "      <th>2</th>\n",
       "      <td>70309629</td>\n",
       "      <td>08/09/2010 12:00:00 AM</td>\n",
       "      <td>1515</td>\n",
       "      <td>13</td>\n",
       "      <td>Newton</td>\n",
       "      <td>1324</td>\n",
       "      <td>2</td>\n",
       "      <td>946</td>\n",
       "      <td>OTHER MISCELLANEOUS CRIME</td>\n",
       "      <td>0</td>\n",
       "      <td>Invest Cont</td>\n",
       "      <td>1300 E  21ST                         ST</td>\n",
       "      <td>34.0224</td>\n",
       "      <td>-118.2524</td>\n",
       "      <td>8/9/2010</td>\n",
       "    </tr>\n",
       "    <tr>\n",
       "      <th>3</th>\n",
       "      <td>90631215</td>\n",
       "      <td>01/05/2010 12:00:00 AM</td>\n",
       "      <td>150</td>\n",
       "      <td>6</td>\n",
       "      <td>Hollywood</td>\n",
       "      <td>646</td>\n",
       "      <td>2</td>\n",
       "      <td>900</td>\n",
       "      <td>VIOLATION OF COURT ORDER</td>\n",
       "      <td>47</td>\n",
       "      <td>Invest Cont</td>\n",
       "      <td>CAHUENGA                     BL</td>\n",
       "      <td>34.1016</td>\n",
       "      <td>-118.3295</td>\n",
       "      <td>1/5/2010</td>\n",
       "    </tr>\n",
       "    <tr>\n",
       "      <th>4</th>\n",
       "      <td>100100501</td>\n",
       "      <td>01/03/2010 12:00:00 AM</td>\n",
       "      <td>2100</td>\n",
       "      <td>1</td>\n",
       "      <td>Central</td>\n",
       "      <td>176</td>\n",
       "      <td>1</td>\n",
       "      <td>122</td>\n",
       "      <td>RAPE, ATTEMPTED</td>\n",
       "      <td>47</td>\n",
       "      <td>Invest Cont</td>\n",
       "      <td>8TH                          ST</td>\n",
       "      <td>34.0387</td>\n",
       "      <td>-118.2488</td>\n",
       "      <td>1/2/2010</td>\n",
       "    </tr>\n",
       "  </tbody>\n",
       "</table>\n",
       "</div>"
      ],
      "text/plain": [
       "       DR_NO                DateRptd  TIMEOCC  AREA   AREANAME  RptDistNo  \\\n",
       "0    1307355  02/20/2010 12:00:00 AM     1350    13     Newton       1385   \n",
       "1   11401303  09/13/2010 12:00:00 AM       45    14    Pacific       1485   \n",
       "2   70309629  08/09/2010 12:00:00 AM     1515    13     Newton       1324   \n",
       "3   90631215  01/05/2010 12:00:00 AM      150     6  Hollywood        646   \n",
       "4  100100501  01/03/2010 12:00:00 AM     2100     1    Central        176   \n",
       "\n",
       "   Part12  CrmCd                                          CrmCdDesc  VictAge  \\\n",
       "0       2    900                           VIOLATION OF COURT ORDER       48   \n",
       "1       2    740  VANDALISM - FELONY ($400 & OVER, ALL CHURCH VA...        0   \n",
       "2       2    946                          OTHER MISCELLANEOUS CRIME        0   \n",
       "3       2    900                           VIOLATION OF COURT ORDER       47   \n",
       "4       1    122                                    RAPE, ATTEMPTED       47   \n",
       "\n",
       "     StatusDesc                                 LOCATION      LAT       LON  \\\n",
       "0  Adult Arrest   300 E  GAGE                         AV  33.9825 -118.2695   \n",
       "1   Invest Cont          SEPULVEDA                    BL  33.9599 -118.3962   \n",
       "2   Invest Cont  1300 E  21ST                         ST  34.0224 -118.2524   \n",
       "3   Invest Cont          CAHUENGA                     BL  34.1016 -118.3295   \n",
       "4   Invest Cont          8TH                          ST  34.0387 -118.2488   \n",
       "\n",
       "     DATEOCC  \n",
       "0  2/20/2010  \n",
       "1  9/12/2010  \n",
       "2   8/9/2010  \n",
       "3   1/5/2010  \n",
       "4   1/2/2010  "
      ]
     },
     "execution_count": 7,
     "metadata": {},
     "output_type": "execute_result"
    }
   ],
   "source": [
    "crime_data.head()"
   ]
  },
  {
   "cell_type": "code",
   "execution_count": 8,
   "id": "08952874-5f92-4205-bd79-9e845c820a11",
   "metadata": {},
   "outputs": [
    {
     "name": "stdout",
     "output_type": "stream",
     "text": [
      "DR_NO         0\n",
      "DateRptd      0\n",
      "TIMEOCC       0\n",
      "AREA          0\n",
      "AREANAME      0\n",
      "RptDistNo     0\n",
      "Part12        0\n",
      "CrmCd         0\n",
      "CrmCdDesc     0\n",
      "VictAge       0\n",
      "StatusDesc    0\n",
      "LOCATION      0\n",
      "LAT           0\n",
      "LON           0\n",
      "DATEOCC       0\n",
      "dtype: int64\n"
     ]
    }
   ],
   "source": [
    "# Check for empty strings\n",
    "empty_string_counts = (crime_data == ' ').sum()\n",
    "print(empty_string_counts)"
   ]
  },
  {
   "cell_type": "code",
   "execution_count": 9,
   "id": "9337ae25-bb3f-47c3-88b4-6941c97e8874",
   "metadata": {},
   "outputs": [
    {
     "name": "stderr",
     "output_type": "stream",
     "text": [
      "C:\\Users\\ujjai\\AppData\\Local\\Temp\\ipykernel_7888\\3134734016.py:3: UserWarning: Could not infer format, so each element will be parsed individually, falling back to `dateutil`. To ensure parsing is consistent and as-expected, please specify a format.\n",
      "  crime_data['DateRptd'] = pd.to_datetime(crime_data['DateRptd'])\n"
     ]
    }
   ],
   "source": [
    "\n",
    "\n",
    "# Convert date and time columns to datetime\n",
    "crime_data['DATEOCC'] = pd.to_datetime(crime_data['DATEOCC'])\n",
    "crime_data['DateRptd'] = pd.to_datetime(crime_data['DateRptd'])"
   ]
  },
  {
   "cell_type": "code",
   "execution_count": 10,
   "id": "05459a4b-5652-4082-8fb5-1ad5e0351b00",
   "metadata": {},
   "outputs": [
    {
     "name": "stdout",
     "output_type": "stream",
     "text": [
      "     DATEOCC  Year  Month  DayOfWeek  Hour  TimeOfDay\n",
      "0 2010-02-20  2010      2          5    13  Afternoon\n",
      "1 2010-09-12  2010      9          6     0      Night\n",
      "2 2010-08-09  2010      8          0    15  Afternoon\n",
      "3 2010-01-05  2010      1          1     1      Night\n",
      "4 2010-01-02  2010      1          5    21    Evening\n"
     ]
    }
   ],
   "source": [
    "# Feature extraction: Extract day, month, year, and hour from date\n",
    "crime_data['Year'] = crime_data['DATEOCC'].dt.year\n",
    "crime_data['Month'] = crime_data['DATEOCC'].dt.month\n",
    "crime_data['DayOfWeek'] = crime_data['DATEOCC'].dt.dayofweek\n",
    "crime_data['Hour'] = crime_data['TIMEOCC'] // 100  # Assuming TIMEOCC is in HHMM format\n",
    "\n",
    "# Define time categories\n",
    "bins = [0, 6, 12, 18, 24]\n",
    "labels = ['Night', 'Morning', 'Afternoon', 'Evening']\n",
    "crime_data['TimeOfDay'] = pd.cut(crime_data['Hour'], bins=bins, labels=labels, right=False)\n",
    "\n",
    "# Preview the new features\n",
    "print(crime_data[['DATEOCC', 'Year', 'Month', 'DayOfWeek', 'Hour', 'TimeOfDay']].head())\n"
   ]
  },
  {
   "cell_type": "code",
   "execution_count": 11,
   "id": "f676c83c-3c4c-47c4-85e5-be21dea084a8",
   "metadata": {},
   "outputs": [
    {
     "data": {
      "text/html": [
       "<div>\n",
       "<style scoped>\n",
       "    .dataframe tbody tr th:only-of-type {\n",
       "        vertical-align: middle;\n",
       "    }\n",
       "\n",
       "    .dataframe tbody tr th {\n",
       "        vertical-align: top;\n",
       "    }\n",
       "\n",
       "    .dataframe thead th {\n",
       "        text-align: right;\n",
       "    }\n",
       "</style>\n",
       "<table border=\"1\" class=\"dataframe\">\n",
       "  <thead>\n",
       "    <tr style=\"text-align: right;\">\n",
       "      <th></th>\n",
       "      <th>DR_NO</th>\n",
       "      <th>DateRptd</th>\n",
       "      <th>TIMEOCC</th>\n",
       "      <th>AREA</th>\n",
       "      <th>AREANAME</th>\n",
       "      <th>RptDistNo</th>\n",
       "      <th>Part12</th>\n",
       "      <th>CrmCd</th>\n",
       "      <th>CrmCdDesc</th>\n",
       "      <th>VictAge</th>\n",
       "      <th>StatusDesc</th>\n",
       "      <th>LOCATION</th>\n",
       "      <th>LAT</th>\n",
       "      <th>LON</th>\n",
       "      <th>DATEOCC</th>\n",
       "      <th>Year</th>\n",
       "      <th>Month</th>\n",
       "      <th>DayOfWeek</th>\n",
       "      <th>Hour</th>\n",
       "      <th>TimeOfDay</th>\n",
       "    </tr>\n",
       "  </thead>\n",
       "  <tbody>\n",
       "    <tr>\n",
       "      <th>0</th>\n",
       "      <td>1307355</td>\n",
       "      <td>2010-02-20</td>\n",
       "      <td>1350</td>\n",
       "      <td>13</td>\n",
       "      <td>Newton</td>\n",
       "      <td>1385</td>\n",
       "      <td>2</td>\n",
       "      <td>900</td>\n",
       "      <td>VIOLATION OF COURT ORDER</td>\n",
       "      <td>48</td>\n",
       "      <td>Adult Arrest</td>\n",
       "      <td>300 E  GAGE                         AV</td>\n",
       "      <td>33.9825</td>\n",
       "      <td>-118.2695</td>\n",
       "      <td>2010-02-20</td>\n",
       "      <td>2010</td>\n",
       "      <td>2</td>\n",
       "      <td>5</td>\n",
       "      <td>13</td>\n",
       "      <td>Afternoon</td>\n",
       "    </tr>\n",
       "    <tr>\n",
       "      <th>1</th>\n",
       "      <td>11401303</td>\n",
       "      <td>2010-09-13</td>\n",
       "      <td>45</td>\n",
       "      <td>14</td>\n",
       "      <td>Pacific</td>\n",
       "      <td>1485</td>\n",
       "      <td>2</td>\n",
       "      <td>740</td>\n",
       "      <td>VANDALISM - FELONY ($400 &amp; OVER, ALL CHURCH VA...</td>\n",
       "      <td>0</td>\n",
       "      <td>Invest Cont</td>\n",
       "      <td>SEPULVEDA                    BL</td>\n",
       "      <td>33.9599</td>\n",
       "      <td>-118.3962</td>\n",
       "      <td>2010-09-12</td>\n",
       "      <td>2010</td>\n",
       "      <td>9</td>\n",
       "      <td>6</td>\n",
       "      <td>0</td>\n",
       "      <td>Night</td>\n",
       "    </tr>\n",
       "    <tr>\n",
       "      <th>2</th>\n",
       "      <td>70309629</td>\n",
       "      <td>2010-08-09</td>\n",
       "      <td>1515</td>\n",
       "      <td>13</td>\n",
       "      <td>Newton</td>\n",
       "      <td>1324</td>\n",
       "      <td>2</td>\n",
       "      <td>946</td>\n",
       "      <td>OTHER MISCELLANEOUS CRIME</td>\n",
       "      <td>0</td>\n",
       "      <td>Invest Cont</td>\n",
       "      <td>1300 E  21ST                         ST</td>\n",
       "      <td>34.0224</td>\n",
       "      <td>-118.2524</td>\n",
       "      <td>2010-08-09</td>\n",
       "      <td>2010</td>\n",
       "      <td>8</td>\n",
       "      <td>0</td>\n",
       "      <td>15</td>\n",
       "      <td>Afternoon</td>\n",
       "    </tr>\n",
       "    <tr>\n",
       "      <th>3</th>\n",
       "      <td>90631215</td>\n",
       "      <td>2010-01-05</td>\n",
       "      <td>150</td>\n",
       "      <td>6</td>\n",
       "      <td>Hollywood</td>\n",
       "      <td>646</td>\n",
       "      <td>2</td>\n",
       "      <td>900</td>\n",
       "      <td>VIOLATION OF COURT ORDER</td>\n",
       "      <td>47</td>\n",
       "      <td>Invest Cont</td>\n",
       "      <td>CAHUENGA                     BL</td>\n",
       "      <td>34.1016</td>\n",
       "      <td>-118.3295</td>\n",
       "      <td>2010-01-05</td>\n",
       "      <td>2010</td>\n",
       "      <td>1</td>\n",
       "      <td>1</td>\n",
       "      <td>1</td>\n",
       "      <td>Night</td>\n",
       "    </tr>\n",
       "    <tr>\n",
       "      <th>4</th>\n",
       "      <td>100100501</td>\n",
       "      <td>2010-01-03</td>\n",
       "      <td>2100</td>\n",
       "      <td>1</td>\n",
       "      <td>Central</td>\n",
       "      <td>176</td>\n",
       "      <td>1</td>\n",
       "      <td>122</td>\n",
       "      <td>RAPE, ATTEMPTED</td>\n",
       "      <td>47</td>\n",
       "      <td>Invest Cont</td>\n",
       "      <td>8TH                          ST</td>\n",
       "      <td>34.0387</td>\n",
       "      <td>-118.2488</td>\n",
       "      <td>2010-01-02</td>\n",
       "      <td>2010</td>\n",
       "      <td>1</td>\n",
       "      <td>5</td>\n",
       "      <td>21</td>\n",
       "      <td>Evening</td>\n",
       "    </tr>\n",
       "  </tbody>\n",
       "</table>\n",
       "</div>"
      ],
      "text/plain": [
       "       DR_NO   DateRptd  TIMEOCC  AREA   AREANAME  RptDistNo  Part12  CrmCd  \\\n",
       "0    1307355 2010-02-20     1350    13     Newton       1385       2    900   \n",
       "1   11401303 2010-09-13       45    14    Pacific       1485       2    740   \n",
       "2   70309629 2010-08-09     1515    13     Newton       1324       2    946   \n",
       "3   90631215 2010-01-05      150     6  Hollywood        646       2    900   \n",
       "4  100100501 2010-01-03     2100     1    Central        176       1    122   \n",
       "\n",
       "                                           CrmCdDesc  VictAge    StatusDesc  \\\n",
       "0                           VIOLATION OF COURT ORDER       48  Adult Arrest   \n",
       "1  VANDALISM - FELONY ($400 & OVER, ALL CHURCH VA...        0   Invest Cont   \n",
       "2                          OTHER MISCELLANEOUS CRIME        0   Invest Cont   \n",
       "3                           VIOLATION OF COURT ORDER       47   Invest Cont   \n",
       "4                                    RAPE, ATTEMPTED       47   Invest Cont   \n",
       "\n",
       "                                  LOCATION      LAT       LON    DATEOCC  \\\n",
       "0   300 E  GAGE                         AV  33.9825 -118.2695 2010-02-20   \n",
       "1          SEPULVEDA                    BL  33.9599 -118.3962 2010-09-12   \n",
       "2  1300 E  21ST                         ST  34.0224 -118.2524 2010-08-09   \n",
       "3          CAHUENGA                     BL  34.1016 -118.3295 2010-01-05   \n",
       "4          8TH                          ST  34.0387 -118.2488 2010-01-02   \n",
       "\n",
       "   Year  Month  DayOfWeek  Hour  TimeOfDay  \n",
       "0  2010      2          5    13  Afternoon  \n",
       "1  2010      9          6     0      Night  \n",
       "2  2010      8          0    15  Afternoon  \n",
       "3  2010      1          1     1      Night  \n",
       "4  2010      1          5    21    Evening  "
      ]
     },
     "execution_count": 11,
     "metadata": {},
     "output_type": "execute_result"
    }
   ],
   "source": [
    "crime_data.head()"
   ]
  },
  {
   "cell_type": "code",
   "execution_count": 12,
   "id": "ff37f58e-a1d7-4b34-ac8e-323ebcd09d05",
   "metadata": {},
   "outputs": [
    {
     "data": {
      "image/png": "[encoded data removed]",
      "text/plain": [
       "<Figure size 1000x600 with 1 Axes>"
      ]
     },
     "metadata": {},
     "output_type": "display_data"
    }
   ],
   "source": [
    "import matplotlib.pyplot as plt\n",
    "import seaborn as sns\n",
    "crime_count_by_year = crime_data.groupby('Year').size()\n",
    "\n",
    "# Plot the line chart\n",
    "plt.figure(figsize=(10,6))\n",
    "plt.plot(crime_count_by_year.index, crime_count_by_year.values, marker='o', linestyle='-', color='b')\n",
    "plt.title('Crime Count by Year')\n",
    "plt.xlabel('Year')\n",
    "plt.ylabel('Number of Crimes')\n",
    "plt.grid(True)\n",
    "plt.show()\n"
   ]
  },
  {
   "cell_type": "code",
   "execution_count": 13,
   "id": "c4c5ad8d-9d03-4752-85d6-9e9a5f130f54",
   "metadata": {},
   "outputs": [
    {
     "data": {
      "image/png": "[encoded data removed]",
      "text/plain": [
       "<Figure size 1000x600 with 1 Axes>"
      ]
     },
     "metadata": {},
     "output_type": "display_data"
    }
   ],
   "source": [
    "# Crime counts by day of the week\n",
    "plt.figure(figsize=(10,6))\n",
    "sns.countplot(x='DayOfWeek', data=crime_data)\n",
    "plt.title('Crime Count by Day of the Week')\n",
    "plt.show()"
   ]
  },
  {
   "cell_type": "code",
   "execution_count": 14,
   "id": "146fa58c-e244-449a-b042-8d459e1a3f5b",
   "metadata": {},
   "outputs": [
    {
     "data": {
      "image/png": "[encoded data removed]",
      "text/plain": [
       "<Figure size 1000x600 with 1 Axes>"
      ]
     },
     "metadata": {},
     "output_type": "display_data"
    }
   ],
   "source": [
    "# Crime counts by time of day\n",
    "plt.figure(figsize=(10,6))\n",
    "sns.countplot(x='TimeOfDay', data=crime_data)\n",
    "plt.title('Crime Count by Time of Day')\n",
    "plt.show()"
   ]
  },
  {
   "cell_type": "code",
   "execution_count": 24,
   "id": "fe6b0f63-4dc4-4913-9836-b7ae896cc304",
   "metadata": {},
   "outputs": [],
   "source": [
    "import folium\n",
    "from folium.plugins import HeatMap\n",
    "\n",
    "# Ensure the 'LON' and 'LAT' columns are numeric\n",
    "crime_data['LON'] = pd.to_numeric(crime_data['LON'], errors='coerce')\n",
    "crime_data['LAT'] = pd.to_numeric(crime_data['LAT'], errors='coerce')\n",
    "\n",
    "# Remove rows with missing or invalid lat/lon values\n",
    "crime_data = crime_data.dropna(subset=['LAT', 'LON'])\n",
    "\n",
    "# Create a base map centered at the average coordinates\n",
    "map_center = [crime_data['LAT'].mean(), crime_data['LON'].mean()]\n",
    "crime_map = folium.Map(location=map_center, zoom_start=12)\n",
    "\n",
    "# Prepare the data for the heatmap\n",
    "heat_data = [[row['LAT'], row['LON']] for index, row in crime_data.iterrows()]\n",
    "\n",
    "# Add the heatmap layer to the map\n",
    "HeatMap(heat_data, radius=10).add_to(crime_map)\n",
    "\n",
    "# Display the map\n",
    "crime_map.save(\"crime_heatmap.html\")"
   ]
  },
  {
   "cell_type": "code",
   "execution_count": 15,
   "id": "78584d35-1fbf-490a-82e3-00bd4644c2e4",
   "metadata": {},
   "outputs": [
    {
     "name": "stdout",
     "output_type": "stream",
     "text": [
      "       DR_NO   DateRptd  TIMEOCC  AREA AREANAME  RptDistNo  Part12  CrmCd  \\\n",
      "0  100100508 2010-01-08     2005     1  Central        182       1    330   \n",
      "1  100100521 2010-01-14     1445     1  Central        118       2    624   \n",
      "2  100100564 2010-01-30     1630     1  Central        139       1    330   \n",
      "3  100100570 2010-01-31      130     1  Central        139       1    440   \n",
      "4  100100571 2010-01-31     1000     1  Central        192       2    624   \n",
      "\n",
      "                            CrmCdDesc  VictAge   StatusDesc  \\\n",
      "0               BURGLARY FROM VEHICLE       46  Invest Cont   \n",
      "1            BATTERY - SIMPLE ASSAULT       38  Invest Cont   \n",
      "2               BURGLARY FROM VEHICLE       25  Invest Cont   \n",
      "3  THEFT PLAIN - PETTY ($950 & UNDER)       31  Invest Cont   \n",
      "4            BATTERY - SIMPLE ASSAULT       36  Adult Other   \n",
      "\n",
      "                                  LOCATION      LAT       LON    DATEOCC  \\\n",
      "0          PICO                         BL  34.0389 -118.2643 2010-01-07   \n",
      "1                          900 N  BROADWAY  34.0640 -118.2375 2010-01-14   \n",
      "2   800    TRACTION                     AV  34.0454 -118.2360 2010-01-29   \n",
      "3   600 E  2ND                          ST  34.0472 -118.2371 2010-01-31   \n",
      "4  1400 S  HOPE                         ST  34.0382 -118.2665 2010-01-31   \n",
      "\n",
      "   Year  Month  DayOfWeek  Hour  TimeOfDay  \n",
      "0  2010      1          3    20    Evening  \n",
      "1  2010      1          3    14  Afternoon  \n",
      "2  2010      1          4    16  Afternoon  \n",
      "3  2010      1          6     1      Night  \n",
      "4  2010      1          6    10    Morning  \n"
     ]
    }
   ],
   "source": [
    "# Get the top 5 crime descriptions by occurrence\n",
    "top_5_crimes = crime_data['CrmCdDesc'].value_counts().nlargest(5).index\n",
    "\n",
    "# Filter the dataset to only include these top 5 crimes\n",
    "top_5_crime_data = crime_data[crime_data['CrmCdDesc'].isin(top_5_crimes)]\n",
    "top_5_crime_data = top_5_crime_data.reset_index(drop=True)\n",
    "\n",
    "# Check the shape of the filtered dataset to confirm reduction\n",
    "print(top_5_crime_data.head())"
   ]
  },
  {
   "cell_type": "code",
   "execution_count": null,
   "id": "1d24ed6f-5d23-473b-9407-4d3c3d2d03eb",
   "metadata": {},
   "outputs": [],
   "source": []
  },
  {
   "cell_type": "code",
   "execution_count": 45,
   "id": "9c2e5e70-44d5-4344-89de-af86718be1f0",
   "metadata": {},
   "outputs": [
    {
     "name": "stdout",
     "output_type": "stream",
     "text": [
      "             DR_NO   DateRptd  TIMEOCC  AREA     AREANAME  RptDistNo  Part12  \\\n",
      "1096408  231209545 2023-04-04      910    12  77th Street       1233       2   \n",
      "1096409  230906452 2023-03-05     1735     9     Van Nuys        926       2   \n",
      "1096410  230905273 2023-02-04     1815     9     Van Nuys        979       1   \n",
      "1096411  231309462 2023-04-20      900    13       Newton       1343       1   \n",
      "1096412  230509679 2023-06-07     2045     5       Harbor        529       2   \n",
      "1096413  231300825 2023-06-07     2203    13       Newton       1322       2   \n",
      "1096414  230406516 2023-03-19      122     4   Hollenbeck        488       1   \n",
      "1096415  230609209 2023-05-01      600     6    Hollywood        639       1   \n",
      "1096416  231007583 2023-04-03     1600    10  West Valley       1031       1   \n",
      "1096417  231104474 2023-01-12     1240    11    Northeast       1107       1   \n",
      "\n",
      "         CrmCd                           CrmCdDesc  VictAge  ... DayOfWeek  \\\n",
      "1096408    624            BATTERY - SIMPLE ASSAULT       34  ...         1   \n",
      "1096409    624            BATTERY - SIMPLE ASSAULT       52  ...         5   \n",
      "1096410    330               BURGLARY FROM VEHICLE       25  ...         1   \n",
      "1096411    510                    VEHICLE - STOLEN        0  ...         3   \n",
      "1096412    624            BATTERY - SIMPLE ASSAULT       63  ...         2   \n",
      "1096413    624            BATTERY - SIMPLE ASSAULT       45  ...         2   \n",
      "1096414    510                    VEHICLE - STOLEN        0  ...         6   \n",
      "1096415    510                    VEHICLE - STOLEN        0  ...         5   \n",
      "1096416    310                            BURGLARY       37  ...         6   \n",
      "1096417    440  THEFT PLAIN - PETTY ($950 & UNDER)       42  ...         3   \n",
      "\n",
      "        Hour  TimeOfDay                   geometry index_right  osm_id  code  \\\n",
      "1096408    9    Morning  POINT (-118.3046 33.9875)         NaN     NaN   NaN   \n",
      "1096409   17  Afternoon    POINT (-118.44 34.1926)         NaN     NaN   NaN   \n",
      "1096410   18    Evening  POINT (-118.4181 34.1536)         NaN     NaN   NaN   \n",
      "1096411    9    Morning  POINT (-118.2611 34.0136)         NaN     NaN   NaN   \n",
      "1096412   20    Evening  POINT (-118.2573 33.7803)         NaN     NaN   NaN   \n",
      "1096413   22    Evening  POINT (-118.2629 34.0254)         NaN     NaN   NaN   \n",
      "1096414    1      Night  POINT (-118.2076 34.0248)         NaN     NaN   NaN   \n",
      "1096415    6    Morning   POINT (-118.302 34.1038)         NaN     NaN   NaN   \n",
      "1096416   16  Afternoon  POINT (-118.5582 34.1866)         NaN     NaN   NaN   \n",
      "1096417   12  Afternoon  POINT (-118.1915 34.1214)         NaN     NaN   NaN   \n",
      "\n",
      "         fclass  name type  \n",
      "1096408     NaN   NaN  NaN  \n",
      "1096409     NaN   NaN  NaN  \n",
      "1096410     NaN   NaN  NaN  \n",
      "1096411     NaN   NaN  NaN  \n",
      "1096412     NaN   NaN  NaN  \n",
      "1096413     NaN   NaN  NaN  \n",
      "1096414     NaN   NaN  NaN  \n",
      "1096415     NaN   NaN  NaN  \n",
      "1096416     NaN   NaN  NaN  \n",
      "1096417     NaN   NaN  NaN  \n",
      "\n",
      "[10 rows x 27 columns]\n"
     ]
    }
   ],
   "source": []
  },
  {
   "cell_type": "code",
   "execution_count": 48,
   "id": "f2e0527f-e7d4-4782-9d87-4dd5ce81f352",
   "metadata": {},
   "outputs": [
    {
     "name": "stdout",
     "output_type": "stream",
     "text": [
      "Original dataset shape: Counter({'BATTERY - SIMPLE ASSAULT': 253180, 'VEHICLE - STOLEN': 247025, 'BURGLARY FROM VEHICLE': 210931, 'BURGLARY': 195447, 'THEFT PLAIN - PETTY ($950 & UNDER)': 189835})\n",
      "Resampled dataset shape: Counter({'BURGLARY FROM VEHICLE': 253180, 'BATTERY - SIMPLE ASSAULT': 253180, 'THEFT PLAIN - PETTY ($950 & UNDER)': 253180, 'BURGLARY': 253180, 'VEHICLE - STOLEN': 253180})\n",
      "                                    precision    recall  f1-score   support\n",
      "\n",
      "          BATTERY - SIMPLE ASSAULT       0.26      0.21      0.23     76029\n",
      "                          BURGLARY       0.31      0.26      0.28     75990\n",
      "             BURGLARY FROM VEHICLE       0.28      0.33      0.31     76064\n",
      "THEFT PLAIN - PETTY ($950 & UNDER)       0.28      0.32      0.30     75766\n",
      "                  VEHICLE - STOLEN       0.29      0.31      0.30     75921\n",
      "\n",
      "                          accuracy                           0.28    379770\n",
      "                         macro avg       0.28      0.29      0.28    379770\n",
      "                      weighted avg       0.28      0.28      0.28    379770\n",
      "\n"
     ]
    }
   ],
   "source": [
    "import numpy as np\n",
    "from imblearn.over_sampling import SMOTE\n",
    "from sklearn.preprocessing import LabelEncoder\n",
    "from collections import Counter\n",
    "from sklearn.tree import DecisionTreeClassifier\n",
    "from sklearn.metrics import classification_report\n",
    "from sklearn.model_selection import train_test_split\n",
    "\n",
    "# Assuming 'AreaName' is the column that contains the area names\n",
    "X = top_5_crime_data[['AREA', 'Hour', 'DayOfWeek']]\n",
    "y = top_5_crime_data['CrmCdDesc']\n",
    "\n",
    "# # Step 1: Encode the AreaName column\n",
    "# label_encoder = LabelEncoder()\n",
    "# X['AreaName'] = label_encoder.fit_transform(X['AreaName'])\n",
    "# Use SMOTE to oversample the minority class\n",
    "sm = SMOTE(random_state=42)\n",
    "X_res, y_res = sm.fit_resample(X, y)\n",
    "\n",
    "# Check the class distribution after balancing\n",
    "print('Original dataset shape:', Counter(y))\n",
    "print('Resampled dataset shape:', Counter(y_res))\n",
    "\n",
    "# Split data into train and test sets\n",
    "X_train, X_test, y_train, y_test = train_test_split(X_res, y_res, test_size=0.3, random_state=42)\n",
    "\n",
    "# Initialize the Decision Tree model\n",
    "model = DecisionTreeClassifier(random_state=42,class_weight='balanced')\n",
    "\n",
    "# Set the batch size (number of samples in each chunk)\n",
    "batch_size = 100000\n",
    "\n",
    "# Fit the model in small batches\n",
    "for i in range(0, X_train.shape[0], batch_size):\n",
    "    # Extract batches from X_train and y_train\n",
    "    X_batch = X_train[i:i + batch_size]\n",
    "    y_batch = y_train[i:i + batch_size]\n",
    "\n",
    "    # Train the model on the current batch\n",
    "    model.fit(X_batch, y_batch)\n",
    "\n",
    "# Make predictions and evaluate\n",
    "y_pred = model.predict(X_test)\n",
    "print(classification_report(y_test, y_pred))\n"
   ]
  },
  {
   "cell_type": "code",
   "execution_count": 50,
   "id": "98f81072-1e7a-4275-bfed-840112029df5",
   "metadata": {},
   "outputs": [
    {
     "name": "stderr",
     "output_type": "stream",
     "text": [
      "C:\\Users\\ujjai\\AppData\\Local\\Programs\\Python\\Python312\\Lib\\site-packages\\sklearn\\metrics\\_classification.py:1531: UndefinedMetricWarning: Precision is ill-defined and being set to 0.0 in labels with no predicted samples. Use `zero_division` parameter to control this behavior.\n",
      "  _warn_prf(average, modifier, f\"{metric.capitalize()} is\", len(result))\n",
      "C:\\Users\\ujjai\\AppData\\Local\\Programs\\Python\\Python312\\Lib\\site-packages\\sklearn\\metrics\\_classification.py:1531: UndefinedMetricWarning: Precision is ill-defined and being set to 0.0 in labels with no predicted samples. Use `zero_division` parameter to control this behavior.\n",
      "  _warn_prf(average, modifier, f\"{metric.capitalize()} is\", len(result))\n"
     ]
    },
    {
     "name": "stdout",
     "output_type": "stream",
     "text": [
      "                                    precision    recall  f1-score   support\n",
      "\n",
      "          BATTERY - SIMPLE ASSAULT       0.21      0.52      0.30     75795\n",
      "                          BURGLARY       0.13      0.02      0.03     58694\n",
      "             BURGLARY FROM VEHICLE       0.19      0.12      0.14     63531\n",
      "THEFT PLAIN - PETTY ($950 & UNDER)       0.19      0.31      0.23     56757\n",
      "                  VEHICLE - STOLEN       0.00      0.00      0.00     74149\n",
      "\n",
      "                          accuracy                           0.20    328926\n",
      "                         macro avg       0.14      0.19      0.14    328926\n",
      "                      weighted avg       0.14      0.20      0.14    328926\n",
      "\n"
     ]
    },
    {
     "name": "stderr",
     "output_type": "stream",
     "text": [
      "C:\\Users\\ujjai\\AppData\\Local\\Programs\\Python\\Python312\\Lib\\site-packages\\sklearn\\metrics\\_classification.py:1531: UndefinedMetricWarning: Precision is ill-defined and being set to 0.0 in labels with no predicted samples. Use `zero_division` parameter to control this behavior.\n",
      "  _warn_prf(average, modifier, f\"{metric.capitalize()} is\", len(result))\n"
     ]
    }
   ],
   "source": [
    "from sklearn.linear_model import SGDClassifier\n",
    "from sklearn.model_selection import train_test_split\n",
    "from sklearn.metrics import classification_report\n",
    "import numpy as np\n",
    "\n",
    "# Define features and target\n",
    "X = top_5_crime_data[['AREA', 'Hour', 'DayOfWeek']]\n",
    "y = top_5_crime_data['CrmCdDesc']\n",
    "\n",
    "# # Use SMOTE to oversample the minority class\n",
    "# sm = SMOTE(random_state=42)\n",
    "# X_res, y_res = sm.fit_resample(X, y)\n",
    "\n",
    "# # Check the class distribution after balancing\n",
    "# print('Original dataset shape:', Counter(y))\n",
    "# print('Resampled dataset shape:', Counter(y_res))\n",
    "# Split data into train and test sets\n",
    "X_train, X_test, y_train, y_test = train_test_split(X, y, test_size=0.3, random_state=42)\n",
    "\n",
    "# Initialize the partial-fit classifier\n",
    "model = SGDClassifier(random_state=42)\n",
    "\n",
    "# Perform incremental learning\n",
    "batch_size = 100000\n",
    "for i in range(0, X_train.shape[0], batch_size):\n",
    "    X_batch = X_train[i:i + batch_size]\n",
    "    y_batch = y_train[i:i + batch_size]\n",
    "    \n",
    "    # Partial fit: Incrementally train the model on chunks of the data\n",
    "    model.partial_fit(X_batch, y_batch, classes=np.unique(y_train))\n",
    "\n",
    "# Make predictions and evaluate0.\n",
    "y_pred = model.predict(X_test)\n",
    "print(classification_report(y_test, y_pred))"
   ]
  },
  {
   "cell_type": "code",
   "execution_count": 51,
   "id": "5dece237-64cc-4b7c-b6ca-df8cbf9e1173",
   "metadata": {},
   "outputs": [
    {
     "name": "stdout",
     "output_type": "stream",
     "text": [
      "Original dataset shape: Counter({'BATTERY - SIMPLE ASSAULT': 253180, 'VEHICLE - STOLEN': 247025, 'BURGLARY FROM VEHICLE': 210931, 'BURGLARY': 195447, 'THEFT PLAIN - PETTY ($950 & UNDER)': 189835})\n",
      "Resampled dataset shape: Counter({'BURGLARY FROM VEHICLE': 253180, 'BATTERY - SIMPLE ASSAULT': 253180, 'THEFT PLAIN - PETTY ($950 & UNDER)': 253180, 'BURGLARY': 253180, 'VEHICLE - STOLEN': 253180})\n",
      "Fitting 3 folds for each of 216 candidates, totalling 648 fits\n"
     ]
    },
    {
     "name": "stderr",
     "output_type": "stream",
     "text": [
      "C:\\Users\\ujjai\\AppData\\Local\\Programs\\Python\\Python312\\Lib\\site-packages\\numpy\\ma\\core.py:2846: RuntimeWarning: invalid value encountered in cast\n",
      "  _data = np.array(data, dtype=dtype, copy=copy,\n"
     ]
    },
    {
     "name": "stdout",
     "output_type": "stream",
     "text": [
      "Best hyperparameters found:  {'criterion': 'gini', 'max_depth': 10, 'max_features': None, 'min_samples_leaf': 1, 'min_samples_split': 2}\n",
      "                                    precision    recall  f1-score   support\n",
      "\n",
      "          BATTERY - SIMPLE ASSAULT       0.29      0.20      0.24     76029\n",
      "                          BURGLARY       0.32      0.34      0.33     75990\n",
      "             BURGLARY FROM VEHICLE       0.32      0.32      0.32     76064\n",
      "THEFT PLAIN - PETTY ($950 & UNDER)       0.30      0.35      0.32     75766\n",
      "                  VEHICLE - STOLEN       0.32      0.34      0.33     75921\n",
      "\n",
      "                          accuracy                           0.31    379770\n",
      "                         macro avg       0.31      0.31      0.31    379770\n",
      "                      weighted avg       0.31      0.31      0.31    379770\n",
      "\n"
     ]
    }
   ],
   "source": [
    "from sklearn.model_selection import GridSearchCV\n",
    "from sklearn.tree import DecisionTreeClassifier\n",
    "\n",
    "X = top_5_crime_data[['AREA', 'Hour', 'DayOfWeek']]\n",
    "y = top_5_crime_data['CrmCdDesc']\n",
    "# Use SMOTE to oversample the minority class\n",
    "sm = SMOTE(random_state=42)\n",
    "X_res, y_res = sm.fit_resample(X, y)\n",
    "\n",
    "# Check the class distribution after balancing\n",
    "print('Original dataset shape:', Counter(y))\n",
    "print('Resampled dataset shape:', Counter(y_res))\n",
    "\n",
    "# Split data into train and test sets\n",
    "X_train, X_test, y_train, y_test = train_test_split(X_res, y_res, test_size=0.3, random_state=42)\n",
    "# Define the parameter grid\n",
    "param_grid = {\n",
    "    'max_depth': [10, 20, 30, 40],\n",
    "    'min_samples_split': [2, 10, 20],\n",
    "    'min_samples_leaf': [1, 5, 10],\n",
    "    'max_features': [None, 'sqrt', 'log2'],\n",
    "    'criterion': ['gini', 'entropy']\n",
    "}\n",
    "\n",
    "# Initialize the DecisionTreeClassifier\n",
    "model = DecisionTreeClassifier(random_state=42, class_weight='balanced')\n",
    "\n",
    "# Set up the GridSearchCV\n",
    "grid_search = GridSearchCV(estimator=model, param_grid=param_grid, cv=3, scoring='f1_macro', verbose=2, n_jobs=-1)\n",
    "\n",
    "# Fit the grid search to the data\n",
    "grid_search.fit(X_train, y_train)\n",
    "\n",
    "# Get the best hyperparameters\n",
    "print(\"Best hyperparameters found: \", grid_search.best_params_)\n",
    "\n",
    "# Use the best estimator\n",
    "best_model = grid_search.best_estimator_\n",
    "\n",
    "# Make predictions and evaluate\n",
    "y_pred = best_model.predict(X_test)\n",
    "print(classification_report(y_test, y_pred))\n",
    "\n"
   ]
  },
  {
   "cell_type": "code",
   "execution_count": 49,
   "id": "690842f6-6fb9-427a-b68a-c26a4cdd2932",
   "metadata": {},
   "outputs": [
    {
     "name": "stdout",
     "output_type": "stream",
     "text": [
      "                                    precision    recall  f1-score   support\n",
      "\n",
      "          BATTERY - SIMPLE ASSAULT       0.32      0.22      0.26     75795\n",
      "                          BURGLARY       0.30      0.32      0.31     58694\n",
      "             BURGLARY FROM VEHICLE       0.30      0.34      0.32     63531\n",
      "THEFT PLAIN - PETTY ($950 & UNDER)       0.27      0.34      0.30     56757\n",
      "                  VEHICLE - STOLEN       0.35      0.33      0.34     74149\n",
      "\n",
      "                          accuracy                           0.31    328926\n",
      "                         macro avg       0.31      0.31      0.31    328926\n",
      "                      weighted avg       0.31      0.31      0.31    328926\n",
      "\n"
     ]
    }
   ],
   "source": [
    "from sklearn.ensemble import RandomForestClassifier\n",
    "from sklearn.metrics import classification_report\n",
    "\n",
    "# Initialize the Random Forest using the parameters from the Decision Tree\n",
    "rf_model = RandomForestClassifier(\n",
    "    criterion='gini', \n",
    "    max_depth=20, \n",
    "    max_features=None, \n",
    "    min_samples_leaf=1, \n",
    "    min_samples_split=20, \n",
    "    n_estimators=100,  # You can start with 100 estimators and tune it later\n",
    "    random_state=42,\n",
    "    class_weight='balanced'\n",
    ")\n",
    "\n",
    "# Train the Random Forest model\n",
    "rf_model.fit(X_train, y_train)\n",
    "\n",
    "# Make predictions\n",
    "y_pred_rf = rf_model.predict(X_test)\n",
    "\n",
    "# Evaluate the model\n",
    "print(classification_report(y_test, y_pred_rf))\n"
   ]
  },
  {
   "cell_type": "code",
   "execution_count": 24,
   "id": "40c915dd-cc7e-449d-bf1a-662b7d1b1683",
   "metadata": {},
   "outputs": [
    {
     "name": "stderr",
     "output_type": "stream",
     "text": [
      "You are using a model of type bert to instantiate a model of type distilbert. This is not supported for all configurations of models and can yield errors.\n",
      "Some weights of DistilBertForSequenceClassification were not initialized from the model checkpoint at google/bert_uncased_L-2_H-128_A-2 and are newly initialized: ['classifier.bias', 'classifier.weight', 'embeddings.LayerNorm.bias', 'embeddings.LayerNorm.weight', 'embeddings.position_embeddings.weight', 'embeddings.word_embeddings.weight', 'pre_classifier.bias', 'pre_classifier.weight', 'transformer.layer.0.attention.k_lin.bias', 'transformer.layer.0.attention.k_lin.weight', 'transformer.layer.0.attention.out_lin.bias', 'transformer.layer.0.attention.out_lin.weight', 'transformer.layer.0.attention.q_lin.bias', 'transformer.layer.0.attention.q_lin.weight', 'transformer.layer.0.attention.v_lin.bias', 'transformer.layer.0.attention.v_lin.weight', 'transformer.layer.0.ffn.lin1.bias', 'transformer.layer.0.ffn.lin1.weight', 'transformer.layer.0.ffn.lin2.bias', 'transformer.layer.0.ffn.lin2.weight', 'transformer.layer.0.output_layer_norm.bias', 'transformer.layer.0.output_layer_norm.weight', 'transformer.layer.0.sa_layer_norm.bias', 'transformer.layer.0.sa_layer_norm.weight', 'transformer.layer.1.attention.k_lin.bias', 'transformer.layer.1.attention.k_lin.weight', 'transformer.layer.1.attention.out_lin.bias', 'transformer.layer.1.attention.out_lin.weight', 'transformer.layer.1.attention.q_lin.bias', 'transformer.layer.1.attention.q_lin.weight', 'transformer.layer.1.attention.v_lin.bias', 'transformer.layer.1.attention.v_lin.weight', 'transformer.layer.1.ffn.lin1.bias', 'transformer.layer.1.ffn.lin1.weight', 'transformer.layer.1.ffn.lin2.bias', 'transformer.layer.1.ffn.lin2.weight', 'transformer.layer.1.output_layer_norm.bias', 'transformer.layer.1.output_layer_norm.weight', 'transformer.layer.1.sa_layer_norm.bias', 'transformer.layer.1.sa_layer_norm.weight']\n",
      "You should probably TRAIN this model on a down-stream task to be able to use it for predictions and inference.\n",
      "The tokenizer class you load from this checkpoint is not the same type as the class this function is called from. It may result in unexpected tokenization. \n",
      "The tokenizer class you load from this checkpoint is 'BertTokenizer'. \n",
      "The class this function is called from is 'DistilBertTokenizer'.\n",
      "C:\\Users\\ujjai\\AppData\\Local\\Programs\\Python\\Python312\\Lib\\site-packages\\transformers\\tokenization_utils_base.py:1601: FutureWarning: `clean_up_tokenization_spaces` was not set. It will be set to `True` by default. This behavior will be depracted in transformers v4.45, and will be then set to `False` by default. For more details check this issue: https://github.com/huggingface/transformers/issues/31884\n",
      "  warnings.warn(\n",
      "The tokenizer class you load from this checkpoint is not the same type as the class this function is called from. It may result in unexpected tokenization. \n",
      "The tokenizer class you load from this checkpoint is 'BertTokenizer'. \n",
      "The class this function is called from is 'DistilBertTokenizerFast'.\n"
     ]
    },
    {
     "data": {
      "application/vnd.jupyter.widget-view+json": {
       "model_id": "a1960fcedd6a48cfb67a36ebd0a2608f",
       "version_major": 2,
       "version_minor": 0
      },
      "text/plain": [
       "Map:   0%|          | 0/886925 [00:00<?, ? examples/s]"
      ]
     },
     "metadata": {},
     "output_type": "display_data"
    },
    {
     "name": "stderr",
     "output_type": "stream",
     "text": [
      "Asking to truncate to max_length but no maximum length is provided and the model has no predefined maximum length. Default to no truncation.\n"
     ]
    },
    {
     "data": {
      "application/vnd.jupyter.widget-view+json": {
       "model_id": "dda385580a3c48eb898390a36da12cf4",
       "version_major": 2,
       "version_minor": 0
      },
      "text/plain": [
       "Map:   0%|          | 0/328926 [00:00<?, ? examples/s]"
      ]
     },
     "metadata": {},
     "output_type": "display_data"
    },
    {
     "name": "stderr",
     "output_type": "stream",
     "text": [
      "C:\\Users\\ujjai\\AppData\\Local\\Programs\\Python\\Python312\\Lib\\site-packages\\transformers\\training_args.py:1525: FutureWarning: `evaluation_strategy` is deprecated and will be removed in version 4.46 of 🤗 Transformers. Use `eval_strategy` instead\n",
      "  warnings.warn(\n",
      "C:\\Users\\ujjai\\AppData\\Local\\Programs\\Python\\Python312\\Lib\\site-packages\\accelerate\\accelerator.py:494: FutureWarning: `torch.cuda.amp.GradScaler(args...)` is deprecated. Please use `torch.amp.GradScaler('cuda', args...)` instead.\n",
      "  self.scaler = torch.cuda.amp.GradScaler(**kwargs)\n"
     ]
    },
    {
     "data": {
      "text/html": [
       "\n",
       "    <div>\n",
       "      \n",
       "      <progress value='27716' max='27716' style='width:300px; height:20px; vertical-align: middle;'></progress>\n",
       "      [27716/27716 1:06:44, Epoch 0/1]\n",
       "    </div>\n",
       "    <table border=\"1\" class=\"dataframe\">\n",
       "  <thead>\n",
       " <tr style=\"text-align: left;\">\n",
       "      <th>Epoch</th>\n",
       "      <th>Training Loss</th>\n",
       "      <th>Validation Loss</th>\n",
       "    </tr>\n",
       "  </thead>\n",
       "  <tbody>\n",
       "    <tr>\n",
       "      <td>0</td>\n",
       "      <td>1.487600</td>\n",
       "      <td>1.540132</td>\n",
       "    </tr>\n",
       "  </tbody>\n",
       "</table><p>"
      ],
      "text/plain": [
       "<IPython.core.display.HTML object>"
      ]
     },
     "metadata": {},
     "output_type": "display_data"
    },
    {
     "data": {
      "text/html": [
       "\n",
       "    <div>\n",
       "      \n",
       "      <progress value='41116' max='41116' style='width:300px; height:20px; vertical-align: middle;'></progress>\n",
       "      [41116/41116 08:25]\n",
       "    </div>\n",
       "    "
      ],
      "text/plain": [
       "<IPython.core.display.HTML object>"
      ]
     },
     "metadata": {},
     "output_type": "display_data"
    },
    {
     "name": "stdout",
     "output_type": "stream",
     "text": [
      "Evaluation results: {'eval_loss': 1.5401321649551392, 'eval_runtime': 505.5124, 'eval_samples_per_second': 650.678, 'eval_steps_per_second': 81.335, 'epoch': 0.9999819602042105}\n"
     ]
    }
   ],
   "source": [
    "from datasets import Dataset\n",
    "from transformers import DistilBertTokenizerFast, DistilBertForSequenceClassification, Trainer, TrainingArguments\n",
    "from sklearn.model_selection import train_test_split\n",
    "from sklearn.preprocessing import LabelEncoder\n",
    "from imblearn.over_sampling import SMOTE\n",
    "import pandas as pd\n",
    "\n",
    "# Step 1: Concatenate AREA, Hour, and DayOfWeek into a single string\n",
    "top_5_crime_data['combined_features'] = (\n",
    "    'Area: ' + top_5_crime_data['AREA'].astype(str) + ' ' +\n",
    "    'Hour: ' + top_5_crime_data['Hour'].astype(str) + ' ' +\n",
    "    'DayOfWeek: ' + top_5_crime_data['DayOfWeek'].astype(str)\n",
    ")\n",
    "\n",
    "# Step 2: Encode the labels (CrmCdDesc) into integer values\n",
    "label_encoder = LabelEncoder()\n",
    "top_5_crime_data['CrmCdDesc_encoded'] = label_encoder.fit_transform(top_5_crime_data['CrmCdDesc'])\n",
    "\n",
    "# Step 3: Perform the train-test split\n",
    "train_data, test_data = train_test_split(top_5_crime_data, test_size=0.3, random_state=42)\n",
    "\n",
    "# Step 4: Apply SMOTE to the training data to balance the classes\n",
    "smote = SMOTE(random_state=42)\n",
    "\n",
    "# SMOTE requires numeric input, so we will temporarily hash the combined text feature into a numeric format\n",
    "train_data['combined_features_encoded'] = train_data['combined_features'].apply(hash)\n",
    "\n",
    "# Apply SMOTE on the encoded features and labels\n",
    "X_resampled, y_resampled = smote.fit_resample(train_data[['combined_features_encoded']], train_data['CrmCdDesc_encoded'])\n",
    "\n",
    "# Step 5: After resampling, map the original text features back to the resampled dataset\n",
    "resampled_data = pd.DataFrame({'combined_features_encoded': X_resampled['combined_features_encoded'], 'labels': y_resampled})\n",
    "\n",
    "# Ensure combined_features is correctly mapped back to text format\n",
    "resampled_data['combined_features'] = resampled_data['combined_features_encoded'].map(\n",
    "    dict(zip(train_data['combined_features_encoded'], train_data['combined_features']))\n",
    ")\n",
    "\n",
    "# Step 6: Convert resampled data back into Hugging Face Dataset objects\n",
    "train_dataset = Dataset.from_pandas(resampled_data[['combined_features', 'labels']])\n",
    "test_dataset = Dataset.from_pandas(test_data[['combined_features', 'CrmCdDesc_encoded']])\n",
    "\n",
    "# Rename the labels column in the test dataset\n",
    "test_dataset = test_dataset.rename_column('CrmCdDesc_encoded', 'labels')\n",
    "\n",
    "# Step 7: Load a smaller model (TinyBERT) and its tokenizer\n",
    "model = DistilBertForSequenceClassification.from_pretrained('google/bert_uncased_L-2_H-128_A-2', num_labels=len(train_data['CrmCdDesc'].unique()))\n",
    "tokenizer = DistilBertTokenizerFast.from_pretrained('google/bert_uncased_L-2_H-128_A-2')\n",
    "\n",
    "# Ensure the 'combined_features' column contains strings before tokenization\n",
    "def preprocess_function(examples):\n",
    "    # Convert to string if it's not\n",
    "    return tokenizer([str(x) for x in examples['combined_features']], truncation=True, padding=True)\n",
    "\n",
    "# Apply the tokenization to both train and test datasets\n",
    "train_dataset = train_dataset.map(preprocess_function, batched=True)\n",
    "test_dataset = test_dataset.map(preprocess_function, batched=True)\n",
    "\n",
    "# Step 8: Define training arguments\n",
    "training_args = TrainingArguments(\n",
    "    output_dir='./results',\n",
    "    evaluation_strategy=\"epoch\",\n",
    "    per_device_train_batch_size=8,      # Smaller batch size\n",
    "    per_device_eval_batch_size=8,       # Same for evaluation\n",
    "    gradient_accumulation_steps=4,      # Simulate larger batch size\n",
    "    num_train_epochs=1,                 # Reduce epochs for quicker testing\n",
    "    weight_decay=0.01,                  # Regularization via weight decay\n",
    "    logging_dir='./logs',               # Directory to store logs\n",
    "    logging_steps=10,                   # Log every 10 steps\n",
    "    fp16=True,                          # Enable mixed precision training\n",
    ")\n",
    "\n",
    "# Step 9: Initialize the Trainer\n",
    "trainer = Trainer(\n",
    "    model=model,\n",
    "    args=training_args,\n",
    "    train_dataset=train_dataset,\n",
    "    eval_dataset=test_dataset,\n",
    "    tokenizer=tokenizer\n",
    ")\n",
    "\n",
    "# Step 10: Train the model\n",
    "trainer.train()\n",
    "\n",
    "# Step 11: Evaluate the model\n",
    "eval_results = trainer.evaluate()\n",
    "print(f\"Evaluation results: {eval_results}\")\n"
   ]
  },
  {
   "cell_type": "code",
   "execution_count": 25,
   "id": "286578dd-f15a-45a9-bee6-c53dab0b63b7",
   "metadata": {},
   "outputs": [
    {
     "name": "stdout",
     "output_type": "stream",
     "text": [
      "Model and tokenizer have been saved to ./my_saved_model\n"
     ]
    }
   ],
   "source": [
    "# Specify the directory where you want to save the model and tokenizer\n",
    "save_directory = './my_saved_model'  # You can customize the path\n",
    "\n",
    "# Save the model and tokenizer to the specified directory\n",
    "model.save_pretrained(save_directory)\n",
    "tokenizer.save_pretrained(save_directory)\n",
    "\n",
    "print(f\"Model and tokenizer have been saved to {save_directory}\")"
   ]
  },
  {
   "cell_type": "code",
   "execution_count": null,
   "id": "1c98b4b0-c1a6-472d-8c01-f16aa4e37974",
   "metadata": {},
   "outputs": [],
   "source": []
  },
  {
   "cell_type": "code",
   "execution_count": null,
   "id": "4c4e0d0c-21c1-40bf-b739-2bf447ee2b2b",
   "metadata": {},
   "outputs": [],
   "source": []
  }
 ],
 "metadata": {
  "kernelspec": {
   "display_name": "Python 3 (ipykernel)",
   "language": "python",
   "name": "python3"
  },
  "language_info": {
   "codemirror_mode": {
    "name": "ipython",
    "version": 3
   },
   "file_extension": ".py",
   "mimetype": "text/x-python",
   "name": "python",
   "nbconvert_exporter": "python",
   "pygments_lexer": "ipython3",
   "version": "3.12.4"
  }
 },
 "nbformat": 4,
 "nbformat_minor": 5
}
